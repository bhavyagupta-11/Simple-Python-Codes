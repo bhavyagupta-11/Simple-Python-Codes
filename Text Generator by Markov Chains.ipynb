{
 "cells": [
  {
   "cell_type": "code",
   "execution_count": 1,
   "id": "2e960aad",
   "metadata": {},
   "outputs": [],
   "source": [
    "text=\"the man was ...they then... the ... the\""
   ]
  },
  {
   "cell_type": "code",
   "execution_count": 2,
   "id": "64de2bc9",
   "metadata": {},
   "outputs": [],
   "source": [
    "def generateTable(data,k=4):\n",
    "    T={}\n",
    "    for i in range(len(data)-k):\n",
    "        X=data[i:i+k]\n",
    "        Y=data[i+k]\n",
    "        #print(X,Y)\n",
    "        if T.get(X) is None:\n",
    "            T[X]={}\n",
    "            T[X][Y]=1\n",
    "        else:\n",
    "            if T[X].get(Y) is None:\n",
    "                T[X][Y]=1\n",
    "            else:\n",
    "                T[X][Y]+=1\n",
    "    return T"
   ]
  },
  {
   "cell_type": "code",
   "execution_count": 3,
   "id": "1cac3205",
   "metadata": {},
   "outputs": [],
   "source": [
    "T=generateTable(\"hello helli\")"
   ]
  },
  {
   "cell_type": "code",
   "execution_count": 20,
   "id": "2e57f380",
   "metadata": {},
   "outputs": [],
   "source": [
    "def convert(T):\n",
    "    for k in T.keys():\n",
    "        s=float(sum(T[k].values()))\n",
    "        for i in T[k].keys():\n",
    "            T[k][i]=T[k][i]/s\n",
    "    return T"
   ]
  },
  {
   "cell_type": "code",
   "execution_count": 21,
   "id": "eb6815d5",
   "metadata": {},
   "outputs": [
    {
     "data": {
      "text/plain": [
       "{'hell': {'o': 0.5, 'i': 0.5},\n",
       " 'ello': {' ': 1.0},\n",
       " 'llo ': {'h': 1.0},\n",
       " 'lo h': {'e': 1.0},\n",
       " 'o he': {'l': 1.0},\n",
       " ' hel': {'l': 1.0}}"
      ]
     },
     "execution_count": 21,
     "metadata": {},
     "output_type": "execute_result"
    }
   ],
   "source": [
    "convert(T)"
   ]
  },
  {
   "cell_type": "code",
   "execution_count": 22,
   "id": "77f5c40a",
   "metadata": {},
   "outputs": [],
   "source": [
    "text_path='text.txt'\n",
    "def load_text(file):\n",
    "    with open(file,encoding='utf-8') as f:\n",
    "        return f.read().lower()\n",
    "text=load_text(text_path)"
   ]
  },
  {
   "cell_type": "code",
   "execution_count": 23,
   "id": "04c965c2",
   "metadata": {},
   "outputs": [
    {
     "name": "stdout",
     "output_type": "stream",
     "text": [
      "smokes and toxic dust from the industries and factories get mixed to the air and causes air pollution. such polluted air is very bad for the lungs when we breathed air in. sewage and other wastes from\n"
     ]
    }
   ],
   "source": [
    "print(text[:200])"
   ]
  },
  {
   "cell_type": "markdown",
   "id": "217e9286",
   "metadata": {},
   "source": [
    "Train our Markov Chain"
   ]
  },
  {
   "cell_type": "code",
   "execution_count": 24,
   "id": "2385f88e",
   "metadata": {},
   "outputs": [],
   "source": [
    "def trainMarkovChain(text,k=4):\n",
    "    T=generateTable(text,k)\n",
    "    T=convert(T)\n",
    "    return T"
   ]
  },
  {
   "cell_type": "code",
   "execution_count": 25,
   "id": "be83e4a9",
   "metadata": {},
   "outputs": [],
   "source": [
    "model=trainMarkovChain(text)"
   ]
  },
  {
   "cell_type": "markdown",
   "id": "2fdcf78b",
   "metadata": {},
   "source": [
    "Generate Text at Text Time"
   ]
  },
  {
   "cell_type": "code",
   "execution_count": 27,
   "id": "a0e100b0",
   "metadata": {},
   "outputs": [],
   "source": [
    "import numpy as np"
   ]
  },
  {
   "cell_type": "code",
   "execution_count": 29,
   "id": "88cf36bb",
   "metadata": {},
   "outputs": [
    {
     "name": "stdout",
     "output_type": "stream",
     "text": [
      "banana\n",
      "mango\n",
      "banana\n",
      "apple\n",
      "apple\n",
      "banana\n",
      "banana\n",
      "apple\n",
      "mango\n",
      "mango\n"
     ]
    }
   ],
   "source": [
    "fruits=['apple','banana','mango']\n",
    "prob=['0.5','0.3','0.2']\n",
    "for i in range(10):\n",
    "    print(np.random.choice(fruits,p=prob))\n",
    "    #sampling according to probability distribution"
   ]
  },
  {
   "cell_type": "code",
   "execution_count": 30,
   "id": "6d4eeea3",
   "metadata": {},
   "outputs": [],
   "source": [
    "def sample_next(past,T,k):\n",
    "    past=past[-k:]\n",
    "    if T.get(past) is None:\n",
    "        return \" \"\n",
    "    possible=list(T[past].keys())\n",
    "    possible_vals=list(T[past].values())\n",
    "    return np.random.choice(possible,p=possible_vals)"
   ]
  },
  {
   "cell_type": "code",
   "execution_count": 35,
   "id": "3ef86418",
   "metadata": {},
   "outputs": [
    {
     "data": {
      "text/plain": [
       "'e'"
      ]
     },
     "execution_count": 35,
     "metadata": {},
     "output_type": "execute_result"
    }
   ],
   "source": [
    "sample_next(\"smok\",model,4)"
   ]
  },
  {
   "cell_type": "markdown",
   "id": "a47c68e7",
   "metadata": {},
   "source": [
    "# BUILT OUR SELF TEXT GENERATOR"
   ]
  },
  {
   "cell_type": "code",
   "execution_count": 36,
   "id": "6a11884f",
   "metadata": {},
   "outputs": [],
   "source": [
    "def generateText(starting,k=4,maxLen=1000):\n",
    "    sentence=starting\n",
    "    l=sentence[-k:]\n",
    "    for i in range(maxLen):\n",
    "        next_pred=sample_next(l,model,k)\n",
    "        sentence+=next_pred\n",
    "        l=sentence[-k:]\n",
    "    return sentence"
   ]
  },
  {
   "cell_type": "code",
   "execution_count": 39,
   "id": "c0c1a7f5",
   "metadata": {},
   "outputs": [
    {
     "data": {
      "text/plain": [
       "'smokes are also cause of this plasticides, loud speakers, etc or two countries get mixed to the most surround stries, sound to the spill or through the very harmful becausing water in temperature of thick cover of the wildlife, wildlife, wildlife hard and even do not aware of it. big and adversely affectively.\\n\\never of it. big and unbearable to the aquatic by the change industries have been surround means upside, and indust from the oxygen level of the large water bodies have been surprising water as hydrocarbons, sound leakage and devices, fertilizers, electronic dustries and othermal pollution all the natural staminants (whoever decreased toxic substances, viruses water causes and plant basis. it cannot aware causing the people is contaminating huge leveloped countries, however drinks the lungs when people is increased toxic devices, viruses, health of humans. the wildlife, wildlife, wildlife harmful becausing the countries and to the wildlife, wildlife hard and planet which needs to this'"
      ]
     },
     "execution_count": 39,
     "metadata": {},
     "output_type": "execute_result"
    }
   ],
   "source": [
    "generateText(\"smoke\")"
   ]
  },
  {
   "cell_type": "code",
   "execution_count": null,
   "id": "da7270d8",
   "metadata": {},
   "outputs": [],
   "source": []
  }
 ],
 "metadata": {
  "kernelspec": {
   "display_name": "Python 3 (ipykernel)",
   "language": "python",
   "name": "python3"
  },
  "language_info": {
   "codemirror_mode": {
    "name": "ipython",
    "version": 3
   },
   "file_extension": ".py",
   "mimetype": "text/x-python",
   "name": "python",
   "nbconvert_exporter": "python",
   "pygments_lexer": "ipython3",
   "version": "3.9.12"
  }
 },
 "nbformat": 4,
 "nbformat_minor": 5
}
