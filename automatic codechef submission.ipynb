{
 "cells": [
  {
   "cell_type": "code",
   "execution_count": null,
   "id": "c0d6005f",
   "metadata": {},
   "outputs": [],
   "source": [
    "from selenium import webdriver\n",
    "from selenium.webdriver.common.by import By"
   ]
  },
  {
   "cell_type": "code",
   "execution_count": null,
   "id": "0ba99eda",
   "metadata": {},
   "outputs": [],
   "source": [
    "browser = webdriver.Chrome()"
   ]
  },
  {
   "cell_type": "code",
   "execution_count": null,
   "id": "ef80e4fd",
   "metadata": {},
   "outputs": [],
   "source": [
    "browser.get(\"https://www.codechef.com/login?destination=/\")"
   ]
  },
  {
   "cell_type": "code",
   "execution_count": null,
   "id": "a2265790",
   "metadata": {},
   "outputs": [],
   "source": [
    "username_element=browser.find_element(By.ID, 'edit-name')\n"
   ]
  },
  {
   "cell_type": "code",
   "execution_count": null,
   "id": "3a3b6032",
   "metadata": {},
   "outputs": [],
   "source": [
    "from getpass import getpass\n",
    "username_element.send_keys(\"bhavyagupta_11\")\n"
   ]
  },
  {
   "cell_type": "code",
   "execution_count": null,
   "id": "87d930f9",
   "metadata": {},
   "outputs": [],
   "source": [
    "password_element=browser.find_element(By.ID, 'edit-pass')"
   ]
  },
  {
   "cell_type": "code",
   "execution_count": null,
   "id": "6150906c",
   "metadata": {},
   "outputs": [],
   "source": [
    "password_element.send_keys(getpass(\"enter password : \"))"
   ]
  },
  {
   "cell_type": "code",
   "execution_count": null,
   "id": "833c2eff",
   "metadata": {},
   "outputs": [],
   "source": [
    "browser.find_element(By.ID, 'edit-submit-button').click()"
   ]
  },
  {
   "cell_type": "code",
   "execution_count": null,
   "id": "15602a27",
   "metadata": {},
   "outputs": [],
   "source": [
    "browser.get(\"https://www.codechef.com/submit/TEST?tab=statement\")"
   ]
  },
  {
   "cell_type": "code",
   "execution_count": null,
   "id": "e3841c23",
   "metadata": {},
   "outputs": [],
   "source": [
    "with open(\"sol.cpp\",'r') as f:\n",
    "    code=f.read()"
   ]
  },
  {
   "cell_type": "code",
   "execution_count": null,
   "id": "92d9115c",
   "metadata": {},
   "outputs": [],
   "source": [
    "code_element=browser.find_element(By.CLASS_NAME,'_upload__icon_17wjk_32')"
   ]
  },
  {
   "cell_type": "code",
   "execution_count": null,
   "id": "61d7f524",
   "metadata": {},
   "outputs": [],
   "source": [
    "code_element.send_keys(code)"
   ]
  },
  {
   "cell_type": "code",
   "execution_count": null,
   "id": "0c8509c5",
   "metadata": {},
   "outputs": [],
   "source": [
    "browser.find_element(By.ID, 'submit-btn').click()"
   ]
  }
 ],
 "metadata": {
  "kernelspec": {
   "display_name": "Python 3 (ipykernel)",
   "language": "python",
   "name": "python3"
  },
  "language_info": {
   "codemirror_mode": {
    "name": "ipython",
    "version": 3
   },
   "file_extension": ".py",
   "mimetype": "text/x-python",
   "name": "python",
   "nbconvert_exporter": "python",
   "pygments_lexer": "ipython3",
   "version": "3.9.12"
  }
 },
 "nbformat": 4,
 "nbformat_minor": 5
}
